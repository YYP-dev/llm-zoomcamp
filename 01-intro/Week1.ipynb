{
 "cells": [
  {
   "cell_type": "code",
   "execution_count": 1,
   "id": "8a3ff531-6a4a-42ab-a02b-a3c2c50ae4d6",
   "metadata": {},
   "outputs": [
    {
     "name": "stderr",
     "output_type": "stream",
     "text": [
      "/usr/local/python/3.12.1/lib/python3.12/site-packages/tqdm/auto.py:21: TqdmWarning: IProgress not found. Please update jupyter and ipywidgets. See https://ipywidgets.readthedocs.io/en/stable/user_install.html\n",
      "  from .autonotebook import tqdm as notebook_tqdm\n"
     ]
    }
   ],
   "source": [
    "from openai import OpenAI\n",
    "from elasticsearch import Elasticsearch\n",
    "import minsearch, json, requests\n",
    "from tqdm.auto import tqdm"
   ]
  },
  {
   "cell_type": "code",
   "execution_count": null,
   "id": "739b60e0-2231-4339-9e08-95814d986420",
   "metadata": {},
   "outputs": [],
   "source": [
    "docs_url = \"https://github.com/DataTalksClub/llm-zoomcamp/blob/main/01-intro/documents.json?raw=1\"\n",
    "docs_response = requests.get(docs_url)\n",
    "docs_json = docs_response.json()"
   ]
  },
  {
   "cell_type": "code",
   "execution_count": null,
   "id": "40d1ade1-bdf6-4f8b-8467-58e7d4e43124",
   "metadata": {},
   "outputs": [],
   "source": [
    "documents = []\n",
    "\n",
    "for course in docs_json:\n",
    "    course_name = course['course']\n",
    "    \n",
    "    for doc in course['documents']:\n",
    "        doc['course'] = course_name\n",
    "        documents.append(doc)\n",
    "        "
   ]
  },
  {
   "cell_type": "code",
   "execution_count": null,
   "id": "32143e23-2fcc-4c89-b08e-ffea8d4b8165",
   "metadata": {},
   "outputs": [],
   "source": [
    "min_index = minsearch.Index(\n",
    "    text_fields=['section', 'question', 'text'],\n",
    "    keyword_fields=['course']\n",
    ")"
   ]
  },
  {
   "cell_type": "code",
   "execution_count": null,
   "id": "570888b4-fa92-4ad9-bf12-ef3c0e91eeae",
   "metadata": {},
   "outputs": [],
   "source": [
    "min_index.fit(documents)"
   ]
  },
  {
   "cell_type": "code",
   "execution_count": null,
   "id": "d89f71ba-b144-427c-8cce-542beedcc20a",
   "metadata": {},
   "outputs": [],
   "source": [
    "boost = {'question': 3.0, 'text': 0.5}\n",
    "\n",
    "retrieved = min_index.search(\n",
    "    query=query,\n",
    "    boost_dict=boost,\n",
    "    filter_dict={'course':'data-engineering-zoomcamp'},\n",
    "    num_results=5\n",
    ")"
   ]
  },
  {
   "cell_type": "code",
   "execution_count": 2,
   "id": "dc2e6b13-2601-4ccf-8e68-e0507ffe0d00",
   "metadata": {},
   "outputs": [],
   "source": [
    "elastic_client = Elasticsearch('http://localhost:9200')"
   ]
  },
  {
   "cell_type": "markdown",
   "id": "ffcec3f0-262b-48c0-83ec-d82470054bb4",
   "metadata": {},
   "source": [
    "## Elasticsearch"
   ]
  },
  {
   "cell_type": "code",
   "execution_count": null,
   "id": "fefc23ea-388d-4ab0-a303-68f00a7f31e8",
   "metadata": {},
   "outputs": [],
   "source": [
    "def build_index(documents):\n",
    "    index_settings = {\n",
    "    \"settings\": {\n",
    "        \"number_of_shards\": 1,\n",
    "        \"number_of_replicas\": 0\n",
    "    },\n",
    "    \"mappings\": {\n",
    "        \"properties\": {\n",
    "            \"text\": {\"type\": \"text\"},\n",
    "            \"section\": {\"type\": \"text\"},\n",
    "            \"question\": {\"type\": \"text\"},\n",
    "            \"course\": {\"type\": \"keyword\"} \n",
    "            }\n",
    "        }\n",
    "    }\n",
    "\n",
    "    elastic_client.indices.create(index=\"course-questions\", body=index_settings)\n",
    "\n",
    "    for doc in tqdm(documents):\n",
    "        elastic_client.index(index=\"course-questions\", document=doc)"
   ]
  },
  {
   "cell_type": "code",
   "execution_count": null,
   "id": "3a937ab3-a424-4c3c-8d68-c3c2bf028e69",
   "metadata": {},
   "outputs": [],
   "source": [
    "build_index(documents)"
   ]
  },
  {
   "cell_type": "code",
   "execution_count": 3,
   "id": "e2606224-3a08-4e68-957a-9365be1001e9",
   "metadata": {},
   "outputs": [],
   "source": [
    "def retriever(question_input):\n",
    "    query_settings = {\n",
    "    \"size\": 5,\n",
    "    \"query\": {\n",
    "        \"bool\": {\n",
    "            \"must\": {\n",
    "                \"multi_match\": {\n",
    "                    \"query\": question_input,\n",
    "                    \"fields\": [\"question^3\", \"text\", \"section\"],\n",
    "                    \"type\": \"best_fields\"\n",
    "                }\n",
    "            },\n",
    "            \"filter\": {\n",
    "                \"term\": {\n",
    "                    \"course\": \"data-engineering-zoomcamp\"\n",
    "                    }\n",
    "                }\n",
    "            }\n",
    "        }\n",
    "    }\n",
    "\n",
    "    search_results = elastic_client.search(index=\"course-questions\", body=query_settings)\n",
    "\n",
    "    doc_results = []\n",
    "\n",
    "    for doc in search_results['hits']['hits']:\n",
    "        doc_results.append(doc['_source'])\n",
    "\n",
    "    return doc_results"
   ]
  },
  {
   "cell_type": "code",
   "execution_count": 4,
   "id": "1863f180-35f6-4399-b3d5-2137dbc170d7",
   "metadata": {},
   "outputs": [],
   "source": [
    "def prompt_constructor(question_input, context_input):\n",
    "    prompt_template = \"\"\"\n",
    "    You are a course teaching assisstant. Answer this QUESTION based on the CONTEXT.\n",
    "    \n",
    "    QUESTION:\n",
    "    {question}\n",
    "    \n",
    "    CONTEXT:\n",
    "    {context}\n",
    "    \"\"\".strip()\n",
    "\n",
    "    context = \"\"\n",
    "\n",
    "    for doc in context_input:\n",
    "        context = context + f\"Section: {doc['section']}\\nQuestion: {doc['question']}\\nAnswer: {doc['text']}\\n\\n\"\n",
    "\n",
    "    full_prompt = prompt_template.format(question= question_input, context= context)\n",
    "    \n",
    "    return full_prompt"
   ]
  },
  {
   "cell_type": "code",
   "execution_count": 5,
   "id": "adfdf763-c79a-40d4-a80b-41c8e03f8cb6",
   "metadata": {},
   "outputs": [],
   "source": [
    "def generate_answer(prompt):\n",
    "    openai_client = OpenAI()\n",
    "    response = openai_client.chat.completions.create(\n",
    "        model='gpt-4o-mini',\n",
    "        messages= [{'role':'user','content':prompt}]\n",
    "    )\n",
    "\n",
    "    return response.choices[0].message.content"
   ]
  },
  {
   "cell_type": "code",
   "execution_count": 6,
   "id": "e5159127-f074-46d4-a866-f506369fcc7e",
   "metadata": {},
   "outputs": [],
   "source": [
    "def main(question):\n",
    "    prompts = prompt_constructor(question, retriever(question))\n",
    "    answer = generate_answer(prompts)\n",
    "\n",
    "    return answer"
   ]
  },
  {
   "cell_type": "code",
   "execution_count": 7,
   "id": "d54179ba-f15f-4975-a03e-dcdb2ac7532c",
   "metadata": {},
   "outputs": [
    {
     "name": "stdin",
     "output_type": "stream",
     "text": [
      "Your question:  how long this course?\n"
     ]
    },
    {
     "name": "stdout",
     "output_type": "stream",
     "text": [
      "\n",
      "The course is expected to take place over a period of approximately 4 months, as the Data-Engineering Zoomcamp usually runs from January to April each year.\n"
     ]
    }
   ],
   "source": [
    "question = input(\"Your question: \")\n",
    "print()\n",
    "print(main(question))"
   ]
  },
  {
   "cell_type": "code",
   "execution_count": null,
   "id": "c597a8b5-4568-4466-aa7e-a21d41701166",
   "metadata": {},
   "outputs": [],
   "source": []
  },
  {
   "cell_type": "code",
   "execution_count": null,
   "id": "17dd0717-e1f3-4e5e-a140-827a7adf0ad6",
   "metadata": {},
   "outputs": [],
   "source": []
  },
  {
   "cell_type": "code",
   "execution_count": null,
   "id": "3868dfa8-cb5c-44e5-80d0-7ed56b525ae8",
   "metadata": {},
   "outputs": [],
   "source": []
  },
  {
   "cell_type": "code",
   "execution_count": null,
   "id": "783fc068-6426-497b-9e67-2649f775092f",
   "metadata": {},
   "outputs": [],
   "source": [
    "docker run -it \\\n",
    "    --name elasticsearch \\\n",
    "    -m 4GB \\\n",
    "    -p 9200:9200 \\\n",
    "    -p 9300:9300 \\\n",
    "    -e \"discovery.type=single-node\" \\\n",
    "    -e \"xpack.security.enabled=false\" \\\n",
    "    docker.elastic.co/elasticsearch/elasticsearch:9.0.2"
   ]
  }
 ],
 "metadata": {
  "kernelspec": {
   "display_name": "Python 3 (ipykernel)",
   "language": "python",
   "name": "python3"
  },
  "language_info": {
   "codemirror_mode": {
    "name": "ipython",
    "version": 3
   },
   "file_extension": ".py",
   "mimetype": "text/x-python",
   "name": "python",
   "nbconvert_exporter": "python",
   "pygments_lexer": "ipython3",
   "version": "3.12.1"
  }
 },
 "nbformat": 4,
 "nbformat_minor": 5
}
