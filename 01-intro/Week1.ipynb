{
 "cells": [
  {
   "cell_type": "code",
   "execution_count": 2,
   "id": "8a3ff531-6a4a-42ab-a02b-a3c2c50ae4d6",
   "metadata": {},
   "outputs": [
    {
     "name": "stderr",
     "output_type": "stream",
     "text": [
      "/usr/local/python/3.12.1/lib/python3.12/site-packages/tqdm/auto.py:21: TqdmWarning: IProgress not found. Please update jupyter and ipywidgets. See https://ipywidgets.readthedocs.io/en/stable/user_install.html\n",
      "  from .autonotebook import tqdm as notebook_tqdm\n"
     ]
    }
   ],
   "source": [
    "from openai import OpenAI\n",
    "from elasticsearch import Elasticsearch\n",
    "import minsearch, json, requests\n",
    "from tqdm.auto import tqdm"
   ]
  },
  {
   "cell_type": "markdown",
   "id": "217d6e3e-ab08-468f-8f4b-8b76fbb1ffaa",
   "metadata": {},
   "source": [
    "# Practice"
   ]
  },
  {
   "cell_type": "markdown",
   "id": "91aead61-940f-4432-852a-d66500d68738",
   "metadata": {},
   "source": [
    "## Loading dataset"
   ]
  },
  {
   "cell_type": "code",
   "execution_count": null,
   "id": "739b60e0-2231-4339-9e08-95814d986420",
   "metadata": {},
   "outputs": [],
   "source": [
    "docs_url = \"https://github.com/DataTalksClub/llm-zoomcamp/blob/main/01-intro/documents.json?raw=1\"\n",
    "docs_response = requests.get(docs_url)\n",
    "docs_json = docs_response.json()"
   ]
  },
  {
   "cell_type": "code",
   "execution_count": null,
   "id": "40d1ade1-bdf6-4f8b-8467-58e7d4e43124",
   "metadata": {},
   "outputs": [],
   "source": [
    "documents = []\n",
    "\n",
    "for course in docs_json:\n",
    "    course_name = course['course']\n",
    "    \n",
    "    for doc in course['documents']:\n",
    "        doc['course'] = course_name\n",
    "        documents.append(doc)\n",
    "        "
   ]
  },
  {
   "cell_type": "markdown",
   "id": "168ae497-d1ba-46b1-be38-e567c010ac6c",
   "metadata": {},
   "source": [
    "## Minsearch"
   ]
  },
  {
   "cell_type": "code",
   "execution_count": null,
   "id": "32143e23-2fcc-4c89-b08e-ffea8d4b8165",
   "metadata": {},
   "outputs": [],
   "source": [
    "min_index = minsearch.Index(\n",
    "    text_fields=['section', 'question', 'text'],\n",
    "    keyword_fields=['course']\n",
    ")"
   ]
  },
  {
   "cell_type": "code",
   "execution_count": null,
   "id": "570888b4-fa92-4ad9-bf12-ef3c0e91eeae",
   "metadata": {},
   "outputs": [],
   "source": [
    "min_index.fit(documents)"
   ]
  },
  {
   "cell_type": "code",
   "execution_count": null,
   "id": "d89f71ba-b144-427c-8cce-542beedcc20a",
   "metadata": {},
   "outputs": [],
   "source": [
    "boost = {'question': 3.0, 'text': 0.5}\n",
    "\n",
    "retrieved = min_index.search(\n",
    "    query=query,\n",
    "    boost_dict=boost,\n",
    "    filter_dict={'course':'data-engineering-zoomcamp'},\n",
    "    num_results=5\n",
    ")"
   ]
  },
  {
   "cell_type": "markdown",
   "id": "ffcec3f0-262b-48c0-83ec-d82470054bb4",
   "metadata": {},
   "source": [
    "## Elasticsearch"
   ]
  },
  {
   "cell_type": "code",
   "execution_count": 3,
   "id": "dc2e6b13-2601-4ccf-8e68-e0507ffe0d00",
   "metadata": {},
   "outputs": [],
   "source": [
    "elastic_client = Elasticsearch('http://localhost:9200')"
   ]
  },
  {
   "cell_type": "markdown",
   "id": "ab104645-8672-418b-b433-8d9ea485567d",
   "metadata": {},
   "source": [
    "### Building index if not exist"
   ]
  },
  {
   "cell_type": "code",
   "execution_count": null,
   "id": "fefc23ea-388d-4ab0-a303-68f00a7f31e8",
   "metadata": {},
   "outputs": [],
   "source": [
    "def build_index(documents):\n",
    "    index_settings = {\n",
    "    \"settings\": {\n",
    "        \"number_of_shards\": 1,\n",
    "        \"number_of_replicas\": 0\n",
    "    },\n",
    "    \"mappings\": {\n",
    "        \"properties\": {\n",
    "            \"text\": {\"type\": \"text\"},\n",
    "            \"section\": {\"type\": \"text\"},\n",
    "            \"question\": {\"type\": \"text\"},\n",
    "            \"course\": {\"type\": \"keyword\"} \n",
    "            }\n",
    "        }\n",
    "    }\n",
    "\n",
    "    elastic_client.indices.create(index=\"course-questions\", body=index_settings)\n",
    "\n",
    "    for doc in tqdm(documents):\n",
    "        elastic_client.index(index=\"course-questions\", document=doc)"
   ]
  },
  {
   "cell_type": "code",
   "execution_count": null,
   "id": "3a937ab3-a424-4c3c-8d68-c3c2bf028e69",
   "metadata": {},
   "outputs": [],
   "source": [
    "build_index(documents)"
   ]
  },
  {
   "cell_type": "markdown",
   "id": "8c6fcc23-075c-4348-9aa5-443864ea8211",
   "metadata": {},
   "source": [
    "### Main"
   ]
  },
  {
   "cell_type": "code",
   "execution_count": 38,
   "id": "524b3202-0a2e-46bb-bd61-98155324aa39",
   "metadata": {},
   "outputs": [],
   "source": [
    "test_query = \"How do I execute a command in a running docker container?\""
   ]
  },
  {
   "cell_type": "code",
   "execution_count": 11,
   "id": "e2606224-3a08-4e68-957a-9365be1001e9",
   "metadata": {},
   "outputs": [],
   "source": [
    "def retriever(question_input):\n",
    "    query_settings = {\n",
    "    \"size\": 5,\n",
    "    \"query\": {\n",
    "        \"bool\": {\n",
    "            \"must\": {\n",
    "                \"multi_match\": {\n",
    "                    \"query\": question_input,\n",
    "                    \"fields\": [\"question^3\", \"text\", \"section\"],\n",
    "                    \"type\": \"best_fields\"\n",
    "                }\n",
    "            },\n",
    "            \"filter\": {\n",
    "                \"term\": {\n",
    "                    \"course\": \"data-engineering-zoomcamp\"\n",
    "                    }\n",
    "                }\n",
    "            }\n",
    "        }\n",
    "    }\n",
    "\n",
    "    search_results = elastic_client.search(index=\"course-questions\", body=query_settings)\n",
    "\n",
    "    doc_results = []\n",
    "\n",
    "    for doc in search_results['hits']['hits']:\n",
    "        doc_results.append(doc['_source'])\n",
    "\n",
    "    return doc_results"
   ]
  },
  {
   "cell_type": "code",
   "execution_count": 47,
   "id": "1863f180-35f6-4399-b3d5-2137dbc170d7",
   "metadata": {},
   "outputs": [],
   "source": [
    "def prompt_constructor(question_input, context_input):\n",
    "    prompt_template = \"\"\"\n",
    "You're a course teaching assistant. Answer the QUESTION based on the CONTEXT from the FAQ database.\n",
    "Use only the facts from the CONTEXT when answering the QUESTION.\n",
    "\n",
    "QUESTION: {question}\n",
    "\n",
    "CONTEXT:\n",
    "{context}\n",
    "\"\"\".strip()\n",
    "\n",
    "    context_template = \"\"\"\n",
    "\n",
    "    context = \"\"\n",
    "\n",
    "    for doc in context_input:\n",
    "        context = context + f\"Section: {doc['section']}\\nQuestion: {doc['question']}\\nAnswer: {doc['text']}\\n\\n\"\n",
    "\n",
    "\n",
    "\n",
    "    full_prompt = prompt_template.format(question= question_input, context= context)\n",
    "    \n",
    "    return full_prompt"
   ]
  },
  {
   "cell_type": "code",
   "execution_count": 6,
   "id": "adfdf763-c79a-40d4-a80b-41c8e03f8cb6",
   "metadata": {},
   "outputs": [],
   "source": [
    "def generate_answer(prompt):\n",
    "    openai_client = OpenAI()\n",
    "    response = openai_client.chat.completions.create(\n",
    "        model='gpt-4o-mini',\n",
    "        messages= [{'role':'user','content':prompt}]\n",
    "    )\n",
    "\n",
    "    return response.choices[0].message.content"
   ]
  },
  {
   "cell_type": "code",
   "execution_count": 7,
   "id": "e5159127-f074-46d4-a866-f506369fcc7e",
   "metadata": {},
   "outputs": [],
   "source": [
    "def main(question):\n",
    "    retrieved_docs = retriever(question)\n",
    "    prompts = prompt_constructor(question, retrieved_docs)\n",
    "    answer = generate_answer(prompts)\n",
    "\n",
    "    return answer"
   ]
  },
  {
   "cell_type": "code",
   "execution_count": null,
   "id": "d54179ba-f15f-4975-a03e-dcdb2ac7532c",
   "metadata": {},
   "outputs": [],
   "source": [
    "question = input(\"Your question: \")\n",
    "print()\n",
    "print(f\"Answer: {main(question)}\")"
   ]
  },
  {
   "cell_type": "markdown",
   "id": "e450e8a5-dd78-4b11-9a01-ffecd6b6e485",
   "metadata": {},
   "source": [
    "# Homework 1"
   ]
  },
  {
   "cell_type": "markdown",
   "id": "515b96ea-3661-4526-b90f-176ff9756a7a",
   "metadata": {},
   "source": [
    "## Q1"
   ]
  },
  {
   "cell_type": "markdown",
   "id": "0ca6eccc-bc31-439e-96b2-c48deae8ae31",
   "metadata": {},
   "source": [
    "## Q2"
   ]
  },
  {
   "cell_type": "code",
   "execution_count": null,
   "id": "3f467028-711a-45a2-9570-c48e1d286627",
   "metadata": {},
   "outputs": [],
   "source": [
    "index_settings = {\n",
    "    \"settings\": {\n",
    "        \"number_of_shards\": 1,\n",
    "        \"number_of_replicas\": 0\n",
    "    },\n",
    "    \"mappings\": {\n",
    "        \"properties\": {\n",
    "            \"text\": {\"type\": \"text\"},\n",
    "            \"section\": {\"type\": \"text\"},\n",
    "            \"question\": {\"type\": \"text\"},\n",
    "            \"course\": {\"type\": \"keyword\"} \n",
    "            }\n",
    "        }\n",
    "    }\n",
    "\n",
    "elastic_client.indices.create(index=\"course-questions\", body=index_settings)\n",
    "\n",
    "for doc in tqdm(documents):\n",
    "    elastic_client.index(index=\"course-questions\", document=doc)"
   ]
  },
  {
   "cell_type": "markdown",
   "id": "f720421a-e5d1-4ad7-bbb8-94550e37ac00",
   "metadata": {},
   "source": [
    "## Q3"
   ]
  },
  {
   "cell_type": "code",
   "execution_count": 56,
   "id": "2714e73c-c2a2-4696-bb85-8f785205f691",
   "metadata": {},
   "outputs": [
    {
     "name": "stdout",
     "output_type": "stream",
     "text": [
      "44.50556\n"
     ]
    }
   ],
   "source": [
    "query = \"How do execute a command on a Kubernetes pod?\"\n",
    "\n",
    "query_settings = {\n",
    "    \"size\": 3,\n",
    "    \"query\": {\n",
    "        \"bool\": {\n",
    "            \"must\": {\n",
    "                \"multi_match\": {\n",
    "                    \"query\": query,\n",
    "                    \"fields\": [\"question^4\", \"text\"],\n",
    "                    \"type\": \"best_fields\"\n",
    "                }\n",
    "            },\n",
    "            }\n",
    "        }\n",
    "    }\n",
    "\n",
    "search_results = elastic_client.search(index=\"course-questions\", body=query_settings)\n",
    "\n",
    "print(search_results['hits']['hits'][0]['_score'])"
   ]
  },
  {
   "cell_type": "markdown",
   "id": "581232f9-5c1d-4630-b2e5-b614b90cceba",
   "metadata": {},
   "source": [
    "## Q4"
   ]
  },
  {
   "cell_type": "code",
   "execution_count": 79,
   "id": "39cfbd5c-563a-4eb4-893b-2dfcf8a4c2fe",
   "metadata": {},
   "outputs": [
    {
     "name": "stdout",
     "output_type": "stream",
     "text": [
      "How do I copy files from a different folder into docker container’s working directory?\n"
     ]
    }
   ],
   "source": [
    "query = \"How do copy a file to a Docker container?\"\n",
    "\n",
    "query_settings = {\n",
    "\"size\": 3,\n",
    "\"query\": {\n",
    "    \"bool\": {\n",
    "        \"must\": {\n",
    "            \"multi_match\": {\n",
    "                \"query\": query,\n",
    "                \"fields\": [\"question^3\", \"text\", \"section\"],\n",
    "                \"type\": \"best_fields\"\n",
    "            }\n",
    "        },\n",
    "        \"filter\": {\n",
    "            \"term\": {\n",
    "                \"course\": \"machine-learning-zoomcamp\"\n",
    "                }\n",
    "            }\n",
    "        }\n",
    "    }\n",
    "}\n",
    "\n",
    "search_results = elastic_client.search(index=\"course-questions\", body=query_settings)\n",
    "\n",
    "doc_results = []\n",
    "\n",
    "for doc in search_results['hits']['hits']:\n",
    "    doc_results.append(doc['_source'])\n",
    "\n",
    "print(doc_results[-1]['question'])"
   ]
  },
  {
   "cell_type": "markdown",
   "id": "1912c5f9-abd1-4ae6-ad46-ff865df8fb0d",
   "metadata": {},
   "source": [
    "## Q5"
   ]
  },
  {
   "cell_type": "code",
   "execution_count": 80,
   "id": "3d1fb77b-39e7-4ea5-ac83-c733385161c7",
   "metadata": {},
   "outputs": [
    {
     "name": "stdout",
     "output_type": "stream",
     "text": [
      "1464\n"
     ]
    }
   ],
   "source": [
    "query = \"How do I execute a command in a running docker container?\"\n",
    "\n",
    "prompt_template = \"\"\"\n",
    "You're a course teaching assistant. Answer the QUESTION based on the CONTEXT from the FAQ database.\n",
    "Use only the facts from the CONTEXT when answering the QUESTION.\n",
    "\n",
    "QUESTION: {question}\n",
    "\n",
    "CONTEXT:\n",
    "{context}\n",
    "\"\"\".strip()\n",
    "\n",
    "context_template = \"\"\"\n",
    "Q: {question}\n",
    "A: {text}\n",
    "\"\"\".strip()\n",
    "\n",
    "context = \"\"\n",
    "\n",
    "for doc in doc_results:\n",
    "    context = context + context_template.format(question=doc['question'], text=doc['text']) + \"\\n\\n\"\n",
    "\n",
    "full_prompt = prompt_template.format(question= query, context= context)\n",
    "\n",
    "print(len(full_prompt))"
   ]
  },
  {
   "cell_type": "markdown",
   "id": "f2155656-5959-443d-a119-67b03be8db0b",
   "metadata": {},
   "source": [
    "## Q6"
   ]
  },
  {
   "cell_type": "code",
   "execution_count": 67,
   "id": "953defcc-94f3-4b28-9710-8e080531a85d",
   "metadata": {},
   "outputs": [],
   "source": [
    "import tiktoken"
   ]
  },
  {
   "cell_type": "code",
   "execution_count": 81,
   "id": "303ca669-598f-476d-9e59-c4edb8a3ece1",
   "metadata": {},
   "outputs": [],
   "source": [
    "encoding = tiktoken.encoding_for_model(\"gpt-4o\")"
   ]
  },
  {
   "cell_type": "code",
   "execution_count": 82,
   "id": "762b9953-db69-45b9-9d89-8545317b1ea9",
   "metadata": {},
   "outputs": [
    {
     "data": {
      "text/plain": [
       "323"
      ]
     },
     "execution_count": 82,
     "metadata": {},
     "output_type": "execute_result"
    }
   ],
   "source": [
    "len(encoding.encode(full_prompt))"
   ]
  },
  {
   "cell_type": "code",
   "execution_count": 71,
   "id": "c99c8863-512a-4eb7-bb19-e1ae3a34f357",
   "metadata": {},
   "outputs": [
    {
     "data": {
      "text/plain": [
       "b\"You're\""
      ]
     },
     "execution_count": 71,
     "metadata": {},
     "output_type": "execute_result"
    }
   ],
   "source": [
    "encoding.decode_single_token_bytes(63842)"
   ]
  }
 ],
 "metadata": {
  "kernelspec": {
   "display_name": "Python 3 (ipykernel)",
   "language": "python",
   "name": "python3"
  },
  "language_info": {
   "codemirror_mode": {
    "name": "ipython",
    "version": 3
   },
   "file_extension": ".py",
   "mimetype": "text/x-python",
   "name": "python",
   "nbconvert_exporter": "python",
   "pygments_lexer": "ipython3",
   "version": "3.12.1"
  }
 },
 "nbformat": 4,
 "nbformat_minor": 5
}
